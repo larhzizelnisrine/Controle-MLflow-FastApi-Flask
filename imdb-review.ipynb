{
 "cells": [
  {
   "cell_type": "code",
   "execution_count": 2,
   "id": "a09ada2e",
   "metadata": {
    "_cell_guid": "b1076dfc-b9ad-4769-8c92-a6c4dae69d19",
    "_uuid": "8f2839f25d086af736a60e9eeb907d3b93b6e0e5",
    "execution": {
     "iopub.execute_input": "2023-11-09T07:21:48.312477Z",
     "iopub.status.busy": "2023-11-09T07:21:48.311935Z",
     "iopub.status.idle": "2023-11-09T07:21:50.319035Z",
     "shell.execute_reply": "2023-11-09T07:21:50.318081Z"
    },
    "papermill": {
     "duration": 2.01919,
     "end_time": "2023-11-09T07:21:50.322852",
     "exception": false,
     "start_time": "2023-11-09T07:21:48.303662",
     "status": "completed"
    },
    "tags": []
   },
   "outputs": [
    {
     "name": "stdout",
     "output_type": "stream",
     "text": [
      "Numpy: 1.26.1\n",
      "Pandas: 1.2.5\n",
      "matplotlib: 3.8.1\n",
      "seaborn: 0.13.0\n",
      "Scikit-Learn: 1.3.2\n",
      "MLFlow: 2.8.1\n"
     ]
    }
   ],
   "source": [
    "import numpy as np \n",
    "import pandas as pd\n",
    "import sklearn as sk\n",
    "from sklearn.model_selection import train_test_split, cross_val_score\n",
    "from sklearn.feature_extraction.text import CountVectorizer\n",
    "from sklearn.linear_model import LogisticRegression\n",
    "import matplotlib #\n",
    "import matplotlib.pyplot as plt\n",
    "import seaborn as sns\n",
    "from sklearn.metrics import roc_auc_score, RocCurveDisplay,confusion_matrix\n",
    "from sklearn.model_selection import KFold\n",
    "import mlflow\n",
    "import mlflow.sklearn\n",
    "print(\"Numpy: {}\".format(np.__version__))\n",
    "print(\"Pandas: {}\".format(pd.__version__))\n",
    "print(\"matplotlib: {}\".format(matplotlib.__version__))\n",
    "print(\"seaborn: {}\".format(sns.__version__))\n",
    "print(\"Scikit-Learn: {}\".format(sk.__version__))\n",
    "print(\"MLFlow: {}\".format(mlflow.__version__))"
   ]
  },
  {
   "cell_type": "code",
   "execution_count": 3,
   "id": "de1c44ff",
   "metadata": {
    "execution": {
     "iopub.execute_input": "2023-11-09T07:21:50.340009Z",
     "iopub.status.busy": "2023-11-09T07:21:50.339317Z",
     "iopub.status.idle": "2023-11-09T07:21:51.985479Z",
     "shell.execute_reply": "2023-11-09T07:21:51.984030Z"
    },
    "papermill": {
     "duration": 1.657025,
     "end_time": "2023-11-09T07:21:51.988814",
     "exception": false,
     "start_time": "2023-11-09T07:21:50.331789",
     "status": "completed"
    },
    "tags": []
   },
   "outputs": [],
   "source": [
    "data = pd.read_csv(\"C:\\\\Users\\\\um6p\\\\Desktop\\\\M1\\\\M2\\\\kelloubi\\\\assignment\\\\IMDB_Dataset.csv\")"
   ]
  },
  {
   "cell_type": "markdown",
   "metadata": {},
   "source": [
    "## data preprocessing"
   ]
  },
  {
   "cell_type": "code",
   "execution_count": 6,
   "metadata": {},
   "outputs": [
    {
     "data": {
      "text/html": [
       "<div>\n",
       "<style scoped>\n",
       "    .dataframe tbody tr th:only-of-type {\n",
       "        vertical-align: middle;\n",
       "    }\n",
       "\n",
       "    .dataframe tbody tr th {\n",
       "        vertical-align: top;\n",
       "    }\n",
       "\n",
       "    .dataframe thead th {\n",
       "        text-align: right;\n",
       "    }\n",
       "</style>\n",
       "<table border=\"1\" class=\"dataframe\">\n",
       "  <thead>\n",
       "    <tr style=\"text-align: right;\">\n",
       "      <th></th>\n",
       "      <th>review</th>\n",
       "      <th>sentiment</th>\n",
       "    </tr>\n",
       "  </thead>\n",
       "  <tbody>\n",
       "    <tr>\n",
       "      <th>0</th>\n",
       "      <td>One of the other reviewers has mentioned that ...</td>\n",
       "      <td>positive</td>\n",
       "    </tr>\n",
       "    <tr>\n",
       "      <th>1</th>\n",
       "      <td>A wonderful little production. &lt;br /&gt;&lt;br /&gt;The...</td>\n",
       "      <td>positive</td>\n",
       "    </tr>\n",
       "    <tr>\n",
       "      <th>2</th>\n",
       "      <td>I thought this was a wonderful way to spend ti...</td>\n",
       "      <td>positive</td>\n",
       "    </tr>\n",
       "    <tr>\n",
       "      <th>3</th>\n",
       "      <td>Basically there's a family where a little boy ...</td>\n",
       "      <td>negative</td>\n",
       "    </tr>\n",
       "    <tr>\n",
       "      <th>4</th>\n",
       "      <td>Petter Mattei's \"Love in the Time of Money\" is...</td>\n",
       "      <td>positive</td>\n",
       "    </tr>\n",
       "  </tbody>\n",
       "</table>\n",
       "</div>"
      ],
      "text/plain": [
       "                                              review sentiment\n",
       "0  One of the other reviewers has mentioned that ...  positive\n",
       "1  A wonderful little production. <br /><br />The...  positive\n",
       "2  I thought this was a wonderful way to spend ti...  positive\n",
       "3  Basically there's a family where a little boy ...  negative\n",
       "4  Petter Mattei's \"Love in the Time of Money\" is...  positive"
      ]
     },
     "execution_count": 6,
     "metadata": {},
     "output_type": "execute_result"
    }
   ],
   "source": [
    "data = data.iloc[:25000, :]\n",
    "data.head()"
   ]
  },
  {
   "cell_type": "code",
   "execution_count": 7,
   "id": "8ba49bdc",
   "metadata": {
    "execution": {
     "iopub.execute_input": "2023-11-09T07:21:52.004769Z",
     "iopub.status.busy": "2023-11-09T07:21:52.003005Z",
     "iopub.status.idle": "2023-11-09T07:21:52.039642Z",
     "shell.execute_reply": "2023-11-09T07:21:52.038142Z"
    },
    "papermill": {
     "duration": 0.047873,
     "end_time": "2023-11-09T07:21:52.042792",
     "exception": false,
     "start_time": "2023-11-09T07:21:51.994919",
     "status": "completed"
    },
    "tags": []
   },
   "outputs": [
    {
     "data": {
      "text/plain": [
       "review       0\n",
       "sentiment    0\n",
       "dtype: int64"
      ]
     },
     "execution_count": 7,
     "metadata": {},
     "output_type": "execute_result"
    }
   ],
   "source": [
    "#check nan values in our dataset\n",
    "data.isna().sum()"
   ]
  },
  {
   "cell_type": "markdown",
   "metadata": {},
   "source": [
    "#### Removing HTML tags"
   ]
  },
  {
   "cell_type": "code",
   "execution_count": 8,
   "metadata": {},
   "outputs": [],
   "source": [
    "import re\n",
    "def tags(text):\n",
    "    pattern = re.compile('<.*?>')\n",
    "    return pattern.sub(r'',text)"
   ]
  },
  {
   "cell_type": "code",
   "execution_count": 9,
   "metadata": {},
   "outputs": [],
   "source": [
    "data['review'] = data['review'].apply(tags)"
   ]
  },
  {
   "cell_type": "code",
   "execution_count": 10,
   "metadata": {},
   "outputs": [
    {
     "data": {
      "text/plain": [
       "'A wonderful little production. The filming technique is very unassuming- very old-time-BBC fashion and gives a comforting, and sometimes discomforting, sense of realism to the entire piece. The actors are extremely well chosen- Michael Sheen not only \"has got all the polari\" but he has all the voices down pat too! You can truly see the seamless editing guided by the references to Williams\\' diary entries, not only is it well worth the watching but it is a terrificly written and performed piece. A masterful production about one of the great master\\'s of comedy and his life. The realism really comes home with the little things: the fantasy of the guard which, rather than use the traditional \\'dream\\' techniques remains solid then disappears. It plays on our knowledge and our senses, particularly with the scenes concerning Orton and Halliwell and the sets (particularly of their flat with Halliwell\\'s murals decorating every surface) are terribly well done.'"
      ]
     },
     "execution_count": 10,
     "metadata": {},
     "output_type": "execute_result"
    }
   ],
   "source": [
    "data['review'][1]"
   ]
  },
  {
   "cell_type": "markdown",
   "metadata": {},
   "source": [
    "#### Removing punctuations :"
   ]
  },
  {
   "cell_type": "code",
   "execution_count": 11,
   "metadata": {},
   "outputs": [
    {
     "data": {
      "text/plain": [
       "'!\"#$%&\\'()*+,-./:;<=>?@[\\\\]^_`{|}~'"
      ]
     },
     "execution_count": 11,
     "metadata": {},
     "output_type": "execute_result"
    }
   ],
   "source": [
    "import string\n",
    "string.punctuation"
   ]
  },
  {
   "cell_type": "code",
   "execution_count": 12,
   "metadata": {},
   "outputs": [],
   "source": [
    "exclude = string.punctuation"
   ]
  },
  {
   "cell_type": "code",
   "execution_count": 13,
   "metadata": {},
   "outputs": [],
   "source": [
    "def punct(text):\n",
    "    return text.translate(str.maketrans('','',exclude))"
   ]
  },
  {
   "cell_type": "code",
   "execution_count": 14,
   "metadata": {},
   "outputs": [],
   "source": [
    "data['review'] = data['review'].apply(punct)"
   ]
  },
  {
   "cell_type": "code",
   "execution_count": 15,
   "metadata": {},
   "outputs": [
    {
     "data": {
      "text/plain": [
       "'A wonderful little production The filming technique is very unassuming very oldtimeBBC fashion and gives a comforting and sometimes discomforting sense of realism to the entire piece The actors are extremely well chosen Michael Sheen not only has got all the polari but he has all the voices down pat too You can truly see the seamless editing guided by the references to Williams diary entries not only is it well worth the watching but it is a terrificly written and performed piece A masterful production about one of the great masters of comedy and his life The realism really comes home with the little things the fantasy of the guard which rather than use the traditional dream techniques remains solid then disappears It plays on our knowledge and our senses particularly with the scenes concerning Orton and Halliwell and the sets particularly of their flat with Halliwells murals decorating every surface are terribly well done'"
      ]
     },
     "execution_count": 15,
     "metadata": {},
     "output_type": "execute_result"
    }
   ],
   "source": [
    "data['review'][1]"
   ]
  },
  {
   "cell_type": "markdown",
   "metadata": {},
   "source": [
    "#### Remove stopwords :"
   ]
  },
  {
   "cell_type": "code",
   "execution_count": 16,
   "metadata": {},
   "outputs": [],
   "source": [
    "from nltk.corpus import stopwords\n",
    "sw = stopwords.words('english')\n",
    "data['review'] = data['review'].apply(lambda x:[word for word in x.split() if word not in sw]).apply(lambda x:\" \".join(x))"
   ]
  },
  {
   "cell_type": "code",
   "execution_count": 17,
   "id": "11e51a00",
   "metadata": {
    "execution": {
     "iopub.execute_input": "2023-11-09T07:21:52.057801Z",
     "iopub.status.busy": "2023-11-09T07:21:52.057267Z",
     "iopub.status.idle": "2023-11-09T07:21:52.065886Z",
     "shell.execute_reply": "2023-11-09T07:21:52.064826Z"
    },
    "papermill": {
     "duration": 0.019514,
     "end_time": "2023-11-09T07:21:52.068662",
     "exception": false,
     "start_time": "2023-11-09T07:21:52.049148",
     "status": "completed"
    },
    "tags": []
   },
   "outputs": [],
   "source": [
    "x = data['review'].copy()\n",
    "y = data['sentiment'].copy()"
   ]
  },
  {
   "cell_type": "code",
   "execution_count": 18,
   "id": "3684a6ac",
   "metadata": {
    "execution": {
     "iopub.execute_input": "2023-11-09T07:21:52.084149Z",
     "iopub.status.busy": "2023-11-09T07:21:52.082738Z",
     "iopub.status.idle": "2023-11-09T07:21:52.183900Z",
     "shell.execute_reply": "2023-11-09T07:21:52.182843Z"
    },
    "papermill": {
     "duration": 0.111889,
     "end_time": "2023-11-09T07:21:52.186792",
     "exception": false,
     "start_time": "2023-11-09T07:21:52.074903",
     "status": "completed"
    },
    "tags": []
   },
   "outputs": [],
   "source": [
    "#data splitting\n",
    "x_train, x_test, y_train, y_test = train_test_split(x, y, test_size=0.2, random_state=42, stratify=y)"
   ]
  },
  {
   "cell_type": "markdown",
   "metadata": {},
   "source": [
    "##### In the following, for reveiws processing, I used CountVectorizer that aims to convert a collection of text documents to a matrix of token counts."
   ]
  },
  {
   "cell_type": "code",
   "execution_count": 19,
   "id": "f24416c9",
   "metadata": {
    "execution": {
     "iopub.execute_input": "2023-11-09T07:21:52.202060Z",
     "iopub.status.busy": "2023-11-09T07:21:52.200891Z",
     "iopub.status.idle": "2023-11-09T07:21:52.207554Z",
     "shell.execute_reply": "2023-11-09T07:21:52.206302Z"
    },
    "papermill": {
     "duration": 0.017482,
     "end_time": "2023-11-09T07:21:52.210419",
     "exception": false,
     "start_time": "2023-11-09T07:21:52.192937",
     "status": "completed"
    },
    "tags": []
   },
   "outputs": [],
   "source": [
    "vectorizer = CountVectorizer()"
   ]
  },
  {
   "cell_type": "code",
   "execution_count": 20,
   "metadata": {},
   "outputs": [],
   "source": [
    "x_train_transformed = vectorizer.fit_transform(x_train)"
   ]
  },
  {
   "cell_type": "markdown",
   "metadata": {},
   "source": [
    "## 1. Model training :"
   ]
  },
  {
   "cell_type": "code",
   "execution_count": 21,
   "metadata": {},
   "outputs": [],
   "source": [
    "from sklearn.metrics import accuracy_score, classification_report"
   ]
  },
  {
   "cell_type": "code",
   "execution_count": 22,
   "metadata": {},
   "outputs": [],
   "source": [
    "import mlflow\n",
    "def evaluate(sk_model, x_test, y_test):\n",
    "    eval_acc = sk_model.score(x_test, y_test)\n",
    "    preds = sk_model.predict(x_test)\n",
    "    auc_score = accuracy_score(y_test, preds)\n",
    "    mlflow.log_metric(\"eval_acc\", eval_acc) # nous avons fait la même chose pour l'accuracy de test (evaluation)\n",
    "    mlflow.log_metric(\"auc_score\", auc_score)# aussi pour l'AUC score \n",
    "    print(f\"Auc Score: {auc_score:.3%}\")\n",
    "    print(f\"Eval Accuracy: {eval_acc:.3%}\")\n",
    "    #roc_plot = RocCurveDisplay.plot(sk_model, x_test, y_test)\n",
    "    #plot_roc_curve(sk_model, x_test, y_test,name='Scikit-learn ROC Curve')\n",
    "    #plt.savefig(\"sklearn_roc_plot.png\")\n",
    "    #plt.show()\n",
    "    plt.clf()\n",
    "    conf_matrix = confusion_matrix(y_test, preds)\n",
    "    ax = sns.heatmap(conf_matrix, annot=True,fmt='g')\n",
    "    ax.invert_xaxis()\n",
    "    ax.invert_yaxis()\n",
    "    plt.ylabel('Actual')\n",
    "    plt.xlabel('Predicted')\n",
    "    plt.title(\"Confusion Matrix\")\n",
    "    plt.savefig(\"sklearn_conf_matrix.png\")\n",
    "    # nous avons dit à MLflow de sauvegarder ces deux figure afin de les consulter à chaque \n",
    "    # exécution d'une façon organisée comme nous allons le voir plus loin dans cet atelier  \n",
    "    #mlflow.log_artifact(\"sklearn_roc_plot.png\")\n",
    "    mlflow.log_artifact(\"sklearn_conf_matrix.png\")"
   ]
  },
  {
   "cell_type": "code",
   "execution_count": 42,
   "metadata": {},
   "outputs": [],
   "source": [
    "import pickle\n",
    "from sklearn.feature_extraction.text import CountVectorizer\n",
    "from sklearn.linear_model import LogisticRegression\n",
    "import mlflow\n",
    "from mlflow.sklearn import log_model\n",
    "\n",
    "vectorizer = CountVectorizer()\n",
    "X_transformed = vectorizer.fit_transform(data['review'])\n",
    "\n",
    "with open('X_transformed.pkl', 'wb') as transformed_file:\n",
    "    pickle.dump(X_transformed, transformed_file)\n",
    "\n",
    "def model_experiment(model, model_name):\n",
    "    mlflow.set_experiment(\"scikit_learn_experiment\")\n",
    "    with mlflow.start_run():\n",
    "        params = {\n",
    "            \"max_iter\": 1,\n",
    "            \"penalty\": 'L1',\n",
    "            \"solver\": 'liblinear',\n",
    "        }\n",
    "        mlflow.log_params(params)\n",
    "        model_opt = model.fit(vectorizer.fit_transform(x_train), y_train)\n",
    "        train_acc = model_opt.score(vectorizer.transform(x_train), y_train)\n",
    "        mlflow.log_metric(\"train_acc\", train_acc)\n",
    "        print(f\"Train Accuracy: {train_acc:.3%}\")\n",
    "        \n",
    "        # Log the transformed data as an artifact\n",
    "        mlflow.log_artifact('X_transformed.pkl', artifact_path=\"artifacts\")\n",
    "\n",
    "        evaluate(model_opt, vectorizer.transform(x_test), y_test)\n",
    "        \n",
    "        # Log the model\n",
    "        mlflow.sklearn.log_model(model_opt, model_name)\n",
    "        \n",
    "        print(\"Model run: \", mlflow.active_run().info.run_uuid)\n",
    "    mlflow.end_run()\n",
    "\n"
   ]
  },
  {
   "cell_type": "markdown",
   "metadata": {},
   "source": [
    "### Test Decision Tree :"
   ]
  },
  {
   "cell_type": "code",
   "execution_count": 24,
   "id": "087c2322",
   "metadata": {
    "papermill": {
     "duration": 0.006928,
     "end_time": "2023-11-09T07:22:50.069181",
     "exception": false,
     "start_time": "2023-11-09T07:22:50.062253",
     "status": "completed"
    },
    "tags": []
   },
   "outputs": [],
   "source": [
    "from sklearn.tree import DecisionTreeClassifier"
   ]
  },
  {
   "cell_type": "code",
   "execution_count": 25,
   "metadata": {},
   "outputs": [
    {
     "name": "stdout",
     "output_type": "stream",
     "text": [
      "Train Accuracy: 100.000%\n",
      "Auc Score: 71.600%\n",
      "Eval Accuracy: 71.600%\n",
      "Model run:  08d32b1413fb43de83944a4a0372e2e6\n"
     ]
    },
    {
     "data": {
      "image/png": "[encoded data removed]",
      "text/plain": [
       "<Figure size 640x480 with 2 Axes>"
      ]
     },
     "metadata": {},
     "output_type": "display_data"
    }
   ],
   "source": [
    "# Decision Tree Model\n",
    "dt_model = DecisionTreeClassifier(random_state=42)\n",
    "model_experiment(dt_model, \"DecisionTreeClassifier\")"
   ]
  },
  {
   "cell_type": "markdown",
   "metadata": {},
   "source": [
    "### Test Random Forest :"
   ]
  },
  {
   "cell_type": "code",
   "execution_count": 26,
   "metadata": {},
   "outputs": [],
   "source": [
    "from sklearn.ensemble import RandomForestClassifier"
   ]
  },
  {
   "cell_type": "code",
   "execution_count": 27,
   "metadata": {},
   "outputs": [
    {
     "name": "stdout",
     "output_type": "stream",
     "text": [
      "Train Accuracy: 100.000%\n",
      "Auc Score: 84.880%\n",
      "Eval Accuracy: 84.880%\n",
      "Model run:  65584435546f422cbd06f0d45a809e02\n"
     ]
    },
    {
     "data": {
      "image/png": "[encoded data removed]",
      "text/plain": [
       "<Figure size 640x480 with 2 Axes>"
      ]
     },
     "metadata": {},
     "output_type": "display_data"
    }
   ],
   "source": [
    "rf = RandomForestClassifier()\n",
    "model_experiment(rf, \"Randomforestclassifier\")"
   ]
  },
  {
   "cell_type": "markdown",
   "metadata": {},
   "source": [
    "### Logistic regression :"
   ]
  },
  {
   "cell_type": "code",
   "execution_count": 40,
   "metadata": {},
   "outputs": [],
   "source": [
    "from sklearn.linear_model import LogisticRegression"
   ]
  },
  {
   "cell_type": "code",
   "execution_count": 43,
   "metadata": {},
   "outputs": [
    {
     "name": "stderr",
     "output_type": "stream",
     "text": [
      "c:\\Users\\um6p\\.pyenv\\pyenv-win\\versions\\3.9.5\\lib\\site-packages\\sklearn\\linear_model\\_logistic.py:460: ConvergenceWarning: lbfgs failed to converge (status=1):\n",
      "STOP: TOTAL NO. of ITERATIONS REACHED LIMIT.\n",
      "\n",
      "Increase the number of iterations (max_iter) or scale the data as shown in:\n",
      "    https://scikit-learn.org/stable/modules/preprocessing.html\n",
      "Please also refer to the documentation for alternative solver options:\n",
      "    https://scikit-learn.org/stable/modules/linear_model.html#logistic-regression\n",
      "  n_iter_i = _check_optimize_result(\n"
     ]
    },
    {
     "name": "stdout",
     "output_type": "stream",
     "text": [
      "Train Accuracy: 99.910%\n",
      "Auc Score: 87.560%\n",
      "Eval Accuracy: 87.560%\n",
      "Model run:  ca0a785f56494ad086034d03bdd169f6\n"
     ]
    },
    {
     "data": {
      "image/png": "[encoded data removed]",
      "text/plain": [
       "<Figure size 640x480 with 2 Axes>"
      ]
     },
     "metadata": {},
     "output_type": "display_data"
    }
   ],
   "source": [
    "rf = LogisticRegression()\n",
    "model_experiment(rf, \"Logistic Regression\")"
   ]
  },
  {
   "cell_type": "markdown",
   "metadata": {},
   "source": [
    "### Test Support vector Machine model :"
   ]
  },
  {
   "cell_type": "code",
   "execution_count": 30,
   "metadata": {},
   "outputs": [],
   "source": [
    "from sklearn.svm import SVC\n",
    "svm_model = SVC(kernel='linear', random_state=42)"
   ]
  },
  {
   "cell_type": "code",
   "execution_count": 31,
   "metadata": {},
   "outputs": [
    {
     "name": "stdout",
     "output_type": "stream",
     "text": [
      "Train Accuracy: 100.000%\n",
      "Auc Score: 85.920%\n",
      "Eval Accuracy: 85.920%\n",
      "Model run:  c1b5cb942f5a4ce492e3c6ae20a63b16\n"
     ]
    },
    {
     "data": {
      "image/png": "[encoded data removed]",
      "text/plain": [
       "<Figure size 640x480 with 2 Axes>"
      ]
     },
     "metadata": {},
     "output_type": "display_data"
    }
   ],
   "source": [
    "model_experiment(svm_model, \"SVMmodel\")"
   ]
  },
  {
   "cell_type": "code",
   "execution_count": null,
   "metadata": {},
   "outputs": [],
   "source": []
  },
  {
   "cell_type": "code",
   "execution_count": 23,
   "metadata": {},
   "outputs": [],
   "source": [
    "import pickle\n",
    "import onnx\n",
    "from skl2onnx import convert_sklearn\n",
    "from skl2onnx.common.data_types import FloatTensorType\n",
    "\n",
    "example_input = [\"example text\"]\n",
    "\n",
    "initial_type = [('float_input', FloatTensorType([None, len(example_input[0])]))] \n",
    "onnx_model = convert_sklearn(model_opt, initial_types=initial_type)\n",
    "\n",
    "onnx.save_model(onnx_model, 'logistic_regression_model.onnx')\n",
    "\n",
    "onnx.checker.check_model(onnx_model)\n"
   ]
  },
  {
   "cell_type": "code",
   "execution_count": 86,
   "metadata": {},
   "outputs": [],
   "source": [
    "# Find the best model\n",
    "best_run = mlflow.search_runs(order_by=[\"metrics.auc_score\"]).iloc[0]\n",
    "best_run_id = best_run.run_id\n",
    " \n",
    "# Retrieve the artifact URI for the 'model' directory\n",
    "best_model_uri = mlflow.get_run(run_id=best_run_id).info.artifact_uri"
   ]
  },
  {
   "cell_type": "code",
   "execution_count": 80,
   "metadata": {},
   "outputs": [
    {
     "data": {
      "text/plain": [
       "'file:///c:/Users/um6p/Desktop/M1/M2/kelloubi/assignment/mlruns/931435339774998555/08d32b1413fb43de83944a4a0372e2e6/artifacts'"
      ]
     },
     "execution_count": 80,
     "metadata": {},
     "output_type": "execute_result"
    }
   ],
   "source": [
    "best_model_uri"
   ]
  },
  {
   "cell_type": "code",
   "execution_count": null,
   "metadata": {},
   "outputs": [],
   "source": [
    "best_model = mlflow.sklearn.load_model(best_model_uri+\"/Randomforestclassifier/model.pkl\")\n",
    "initial_type = [('float_input',FloatTensorType([None, x_train.shape[1]]))]\n",
    "onnx_model = convert_sklearn(best_model, initial_types=initial_type)\n",
    "onnx.save_model(onnx_model, \"../models/best_model.onnx\")"
   ]
  },
  {
   "cell_type": "code",
   "execution_count": null,
   "metadata": {},
   "outputs": [],
   "source": []
  }
 ],
 "metadata": {
  "kernelspec": {
   "display_name": "Python 3",
   "language": "python",
   "name": "python3"
  },
  "language_info": {
   "codemirror_mode": {
    "name": "ipython",
    "version": 3
   },
   "file_extension": ".py",
   "mimetype": "text/x-python",
   "name": "python",
   "nbconvert_exporter": "python",
   "pygments_lexer": "ipython3",
   "version": "3.9.5"
  },
  "papermill": {
   "default_parameters": {},
   "duration": 66.553482,
   "end_time": "2023-11-09T07:22:50.901208",
   "environment_variables": {},
   "exception": null,
   "input_path": "__notebook__.ipynb",
   "output_path": "__notebook__.ipynb",
   "parameters": {},
   "start_time": "2023-11-09T07:21:44.347726",
   "version": "2.4.0"
  }
 },
 "nbformat": 4,
 "nbformat_minor": 5
}
